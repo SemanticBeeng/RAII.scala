{
 "cells": [
  {
   "cell_type": "code",
   "execution_count": 1,
   "metadata": {
    "collapsed": true
   },
   "outputs": [],
   "source": [
    "interp.load.module(ammonite.ops.Path(\"/Users/cshao/DeepLearning.scala/jupyter-script.sc\"))"
   ]
  },
  {
   "cell_type": "code",
   "execution_count": 2,
   "metadata": {},
   "outputs": [
    {
     "data": {
      "text/plain": [
       "\u001b[32mimport \u001b[39m\u001b[36mjava.io.FileWriter\n",
       "\u001b[39m\n",
       "\u001b[32mimport \u001b[39m\u001b[36mjava.util.concurrent.atomic.AtomicInteger\n",
       "\u001b[39m\n",
       "\u001b[32mimport \u001b[39m\u001b[36mscala.concurrent.duration.{SECONDS, FiniteDuration}\n",
       "\u001b[39m\n",
       "\u001b[32mimport \u001b[39m\u001b[36mscala.Long\n",
       "\u001b[39m\n",
       "\u001b[32mimport \u001b[39m\u001b[36mscala.util.{DynamicVariable, Try, Success, Failure}\n",
       "\u001b[39m\n",
       "\u001b[32mimport \u001b[39m\u001b[36mcom.typesafe.config.{Config, ConfigFactory}\n",
       "\u001b[39m\n",
       "\u001b[32mimport \u001b[39m\u001b[36makka.actor.{ Actor, ActorLogging, ActorRef, ActorSystem, Props }\n",
       "\u001b[39m\n",
       "\u001b[32mimport \u001b[39m\u001b[36makka.event.Logging\n",
       "\u001b[39m\n",
       "\u001b[32mimport \u001b[39m\u001b[36makka.pattern.ask\n",
       "\u001b[39m\n",
       "\u001b[32mimport \u001b[39m\u001b[36makka.serialization.Serializer\n",
       "\u001b[39m\n",
       "\u001b[32mimport \u001b[39m\u001b[36makka.util.Timeout\n",
       "\u001b[39m\n",
       "\u001b[32mimport \u001b[39m\u001b[36makka.util.Timeout._\n",
       "\u001b[39m\n",
       "\u001b[32mimport \u001b[39m\u001b[36mscalaz.{@@}\n",
       "\u001b[39m\n",
       "\u001b[32mimport \u001b[39m\u001b[36mscalaz.{Functor, Applicative, Monad, Tag}\n",
       "\u001b[39m\n",
       "\u001b[32mimport \u001b[39m\u001b[36mscalaz.syntax.all._\n",
       "\u001b[39m\n",
       "\u001b[32mimport \u001b[39m\u001b[36mcom.thoughtworks.tryt.covariant._\n",
       "\u001b[39m\n",
       "\u001b[32mimport \u001b[39m\u001b[36mcom.thoughtworks.future._\n",
       "\u001b[39m\n",
       "\u001b[32mimport \u001b[39m\u001b[36mcom.thoughtworks.continuation._\n",
       "\u001b[39m\n",
       "\u001b[32mimport \u001b[39m\u001b[36mcom.thoughtworks.raii.covariant._\n",
       "\u001b[39m\n",
       "\u001b[32mimport \u001b[39m\u001b[36mcom.thoughtworks.raii.asynchronous._\n",
       "\u001b[39m\n",
       "\u001b[32mimport \u001b[39m\u001b[36mcom.thoughtworks.feature.Factory\n",
       "// import com.thoughtworks.deeplearning.plugins._\n",
       "\u001b[39m\n",
       "\u001b[32mimport \u001b[39m\u001b[36mcom.thoughtworks.each.Monadic._\u001b[39m"
      ]
     },
     "execution_count": 2,
     "metadata": {},
     "output_type": "execute_result"
    }
   ],
   "source": [
    "import java.io.FileWriter\n",
    "import java.util.concurrent.atomic.AtomicInteger\n",
    "import scala.concurrent.duration.{SECONDS, FiniteDuration}\n",
    "import scala.Long\n",
    "import scala.util.{DynamicVariable, Try, Success, Failure}\n",
    "import com.typesafe.config.{Config, ConfigFactory}\n",
    "import akka.actor.{ Actor, ActorLogging, ActorRef, ActorSystem, Props }\n",
    "import akka.event.Logging\n",
    "import akka.pattern.ask\n",
    "import akka.serialization.Serializer\n",
    "import akka.util.Timeout\n",
    "import akka.util.Timeout._\n",
    "import scalaz.{@@}\n",
    "import scalaz.{Functor, Applicative, Monad, Tag}\n",
    "import scalaz.syntax.all._\n",
    "import com.thoughtworks.tryt.covariant._\n",
    "import com.thoughtworks.future._\n",
    "import com.thoughtworks.continuation._\n",
    "import com.thoughtworks.raii.covariant._\n",
    "import com.thoughtworks.raii.asynchronous._\n",
    "import com.thoughtworks.feature.Factory\n",
    "// import com.thoughtworks.deeplearning.plugins._\n",
    "import com.thoughtworks.each.Monadic._"
   ]
  },
  {
   "cell_type": "code",
   "execution_count": null,
   "metadata": {
    "collapsed": true
   },
   "outputs": [],
   "source": [
    "def appender[A](s: A): Unit = {\n",
    "    synchronized {\n",
    "        val f = new FileWriter(\"/tmp/log.txt\", true)\n",
    "        try {\n",
    "            publish.md(s.toString)\n",
    "            f.write(s\"$s\\n\")\n",
    "            f.flush()\n",
    "        } finally {\n",
    "            f.close()\n",
    "        }\n",
    "    }\n",
    "}"
   ]
  },
  {
   "cell_type": "code",
   "execution_count": 5,
   "metadata": {},
   "outputs": [
    {
     "data": {
      "text/plain": [
       "\u001b[36masRef\u001b[39m: \u001b[32mActorSystem\u001b[39m = null\n",
       "\u001b[36masRefCont\u001b[39m: () => \u001b[32mActorSystem\u001b[39m = <function0>\n",
       "defined \u001b[32mclass\u001b[39m \u001b[36mSerializableActorSystem\u001b[39m\n",
       "defined \u001b[32mclass\u001b[39m \u001b[36mSerializableActorSystemProxy\u001b[39m"
      ]
     },
     "execution_count": 5,
     "metadata": {},
     "output_type": "execute_result"
    }
   ],
   "source": [
    "\n",
    "private type RemoteCont = (Resource[UnitContinuation, Try[Actor]]) => Unit\n",
    "\n",
    "// private case class Dispatch(cont: RemoteCont)\n",
    "private case class Dispatch(contBuf: Array[Byte])\n",
    "private case class Result(result: Try[Unit])\n",
    "\n",
    "class RemoteActor extends Actor {\n",
    "    override def receive = {\n",
    "        case Dispatch(contBuf) =>\n",
    "        val backward = sender\n",
    "            val value: Try[Unit] = Success(())\n",
    "        \n",
    "        val system = SerializableActorSystem(context.system)\n",
    "            val finalizer = new (() => Unit) with Serializable {\n",
    "                def apply(): Unit = {\n",
    "                    system.stop(self) \n",
    "                }\n",
    "            }\n",
    "        \n",
    "            val release: UnitContinuation[Unit] = UnitContinuation.safeAsync[Unit] { _(finalizer()) }\n",
    "            val param: Resource[UnitContinuation, Try[Unit]] = Resource(value, release)\n",
    "            cont(param)\n",
    "            appender(\"remoteCont executed without throwing\")\n",
    "            sender ! Result(value)\n",
    "    }\n",
    "}\n",
    "\n",
    "class Remote protected (val actorSystem: ActorSystem)(implicit val timeout: Timeout) {\n",
    "    appender(\"Invoked Remote constructor\")\n",
    "    \n",
    "    import actorSystem.dispatcher\n",
    "    \n",
    "    def jump: Do[Unit] = Do.async {\n",
    "        appender(\"Invoked remote.jump\")\n",
    "        (cont: RemoteCont) => {\n",
    "            val newActor = actorSystem.actorOf(Props(new RemoteActor))\n",
    "            (newActor ? Dispatch(cont)).onComplete {\n",
    "                case Success(msg) => msg.asInstanceOf[Result].result match {\n",
    "                    case Success(_) => ()\n",
    "                    case Failure(err) => appender(s\"remote execution error: $err\")\n",
    "                }\n",
    "                case Failure(err) => appender(s\"akka networking error: $err\")\n",
    "            }\n",
    "        }\n",
    "    }\n",
    "}\n",
    "\n",
    "object Remote {\n",
    "    def apply(makeActorSystem: => ActorSystem)(implicit timeout: Timeout): Do[Remote] = {\n",
    "        Do.resource {\n",
    "            val actorSystem = makeActorSystem\n",
    "            Resource(new Remote(actorSystem), UnitContinuation.delay {\n",
    "                appender(\"Shutting down actorSystem\")\n",
    "                import actorSystem.dispatcher\n",
    "                val Future(TryT(tryFinalizer)) = actorSystem.terminate.toThoughtworksFuture\n",
    "                tryFinalizer.map {\n",
    "                    case Success(_) => appender(\"actorSystem terminated\")\n",
    "                    case Failure(err) => appender(s\"actorSystem finalizer error: $err\")\n",
    "                }\n",
    "            }.join)\n",
    "        }\n",
    "    }\n",
    "}\n",
    "\n",
    "\n",
    "var asRef: ActorSystem = null\n",
    "\n",
    "val asRefCont: () => ActorSystem = { () => asRef }\n",
    "\n",
    "class SerializableActorSystem(val actorSystem: ActorSystem) extends Serializable {\n",
    "    def writeReplace: Any = {\n",
    "        asRef = actorSystem\n",
    "        new SerializableActorSystemProxy\n",
    "    }\n",
    "}\n",
    "\n",
    "class SerializableActorSystemProxy extends Serializable {\n",
    "    def readResolve: Any = new SerializableActorSystem(asRefCont())\n",
    "}"
   ]
  },
  {
   "cell_type": "code",
   "execution_count": 6,
   "metadata": {},
   "outputs": [
    {
     "name": "stdout",
     "output_type": "stream",
     "text": [
      "[DEBUG] [08/28/2017 18:01:32.923] [pool-6-thread-11] [EventStream(akka://RemoteSpecActorSystem)] logger log1-Logging$DefaultLogger started\n",
      "[DEBUG] [08/28/2017 18:01:32.925] [pool-6-thread-11] [EventStream(akka://RemoteSpecActorSystem)] Default Loggers started\n",
      "[INFO] [08/28/2017 18:01:32.943] [pool-6-thread-11] [akka.remote.Remoting] Starting remoting\n",
      "[INFO] [08/28/2017 18:01:32.955] [pool-6-thread-11] [akka.remote.Remoting] Remoting started; listening on addresses :[akka.tcp://RemoteSpecActorSystem@127.0.0.1:2552]\n",
      "[INFO] [08/28/2017 18:01:32.955] [pool-6-thread-11] [akka.remote.Remoting] Remoting now listens on addresses: [akka.tcp://RemoteSpecActorSystem@127.0.0.1:2552]\n"
     ]
    },
    {
     "ename": "",
     "evalue": "",
     "output_type": "error",
     "traceback": [
      "\u001b[31mjava.io.NotSerializableException: akka.actor.ActorSystemImpl\u001b[39m",
      "  java.io.ObjectOutputStream.writeObject0(\u001b[32mObjectOutputStream.java\u001b[39m:\u001b[32m1184\u001b[39m)",
      "  java.io.ObjectOutputStream.defaultWriteFields(\u001b[32mObjectOutputStream.java\u001b[39m:\u001b[32m1548\u001b[39m)",
      "  java.io.ObjectOutputStream.writeSerialData(\u001b[32mObjectOutputStream.java\u001b[39m:\u001b[32m1509\u001b[39m)",
      "  java.io.ObjectOutputStream.writeOrdinaryObject(\u001b[32mObjectOutputStream.java\u001b[39m:\u001b[32m1432\u001b[39m)",
      "  java.io.ObjectOutputStream.writeObject0(\u001b[32mObjectOutputStream.java\u001b[39m:\u001b[32m1178\u001b[39m)",
      "  java.io.ObjectOutputStream.defaultWriteFields(\u001b[32mObjectOutputStream.java\u001b[39m:\u001b[32m1548\u001b[39m)",
      "  java.io.ObjectOutputStream.writeSerialData(\u001b[32mObjectOutputStream.java\u001b[39m:\u001b[32m1509\u001b[39m)",
      "  java.io.ObjectOutputStream.writeOrdinaryObject(\u001b[32mObjectOutputStream.java\u001b[39m:\u001b[32m1432\u001b[39m)",
      "  java.io.ObjectOutputStream.writeObject0(\u001b[32mObjectOutputStream.java\u001b[39m:\u001b[32m1178\u001b[39m)",
      "  java.io.ObjectOutputStream.writeObject(\u001b[32mObjectOutputStream.java\u001b[39m:\u001b[32m348\u001b[39m)",
      "  $sess.cmd5Wrapper$Helper.<init>(\u001b[32mcmd5.sc\u001b[39m:\u001b[32m23\u001b[39m)",
      "  $sess.cmd5Wrapper.<init>(\u001b[32mcmd5.sc\u001b[39m:\u001b[32m353\u001b[39m)",
      "  $sess.cmd5$.<init>(\u001b[32mcmd5.sc\u001b[39m:\u001b[32m323\u001b[39m)",
      "  $sess.cmd5$.<clinit>(\u001b[32mcmd5.sc\u001b[39m:\u001b[32m-1\u001b[39m)"
     ]
    }
   ],
   "source": [
    "val ac = ActorSystem(\"RemoteSpecActorSystem\", ConfigFactory.parseString(\"\"\"\n",
    "      akka {\n",
    "        loglevel = \"DEBUG\"\n",
    "        actor {\n",
    "          provider = remote\n",
    "          debug {\n",
    "            receive = on\n",
    "          }\n",
    "        }\n",
    "        remote {\n",
    "          enabled-transports = [\"akka.remote.netty.tcp\"]\n",
    "          netty.tcp {\n",
    "            hostname = \"127.0.0.1\"\n",
    "            port = 2552\n",
    "          }\n",
    "       }\n",
    "      }\n",
    "    \"\"\"))\n",
    "try {\n",
    "    val sac = new SerializableActorSystem(ac)\n",
    "    import java.io.{ObjectOutputStream, ByteArrayOutputStream, ObjectInputStream, ByteArrayInputStream}\n",
    "    val ba = new ByteArrayOutputStream\n",
    "    new ObjectOutputStream(ba).writeObject(sac)\n",
    "    val sac2 = new ObjectInputStream(new ByteArrayInputStream(ba.toByteArray)).readObject.asInstanceOf[SerializableActorSystem]\n",
    "    println(sac)\n",
    "    println(sac2)\n",
    "    println(sac.actorSystem == sac2.actorSystem)\n",
    "} finally {\n",
    "    ac.terminate()\n",
    "}"
   ]
  },
  {
   "cell_type": "code",
   "execution_count": null,
   "metadata": {
    "collapsed": true
   },
   "outputs": [],
   "source": [
    "val config: Config = ConfigFactory.parseString(\"\"\"\n",
    "      akka {\n",
    "        loglevel = \"DEBUG\"\n",
    "        actor {\n",
    "          provider = remote\n",
    "          debug {\n",
    "            receive = on\n",
    "          }\n",
    "        }\n",
    "        remote {\n",
    "          enabled-transports = [\"akka.remote.netty.tcp\"]\n",
    "          netty.tcp {\n",
    "            hostname = \"127.0.0.1\"\n",
    "            port = 2552\n",
    "          }\n",
    "       }\n",
    "      }\n",
    "    \"\"\")\n",
    "\n",
    "def remoteSpec: Unit = {\n",
    "    sys.props(\"sun.io.serialization.extendedDebugInfo\") = \"true\"\n",
    "    \n",
    "    appender(\"======remoteSpec======\")\n",
    "    \n",
    "    implicit val timeout: Timeout = FiniteDuration(10, SECONDS)\n",
    "    \n",
    "    val m: Do[Double] = monadic[Do] {\n",
    "        val remote = Remote(ActorSystem(\"RemoteSpecActorSystem\", config)).each\n",
    "        remote.jump.each\n",
    "        val x = Do.now(2.0).each\n",
    "        remote.jump.each\n",
    "        val y = Do.now(3.0).each\n",
    "        remote.jump.each\n",
    "        x * y\n",
    "    }\n",
    "    \n",
    "    val r = m.run.blockingAwait\n",
    "    appender(s\"result of remoteSpec: $r\")\n",
    "}"
   ]
  },
  {
   "cell_type": "code",
   "execution_count": null,
   "metadata": {
    "collapsed": true
   },
   "outputs": [],
   "source": [
    "remoteSpec"
   ]
  },
  {
   "cell_type": "code",
   "execution_count": null,
   "metadata": {
    "collapsed": true
   },
   "outputs": [],
   "source": [
    "val Do[Buffer] = jump().map { actorRef: ActorRef =>\n",
    "    createBuffer()\n",
    "}\n",
    "\n"
   ]
  },
  {
   "cell_type": "code",
   "execution_count": null,
   "metadata": {
    "collapsed": true
   },
   "outputs": [],
   "source": [
    "@autoInject\n",
    "case class ReleaseActor(actorRef: ActorRef) extends ReadResolveable {\n",
    "    \n",
    "    trait WriteReplaceable {\n",
    "        \n",
    "        val context = readFromThreadLocalStorage()\n",
    "        \n",
    "        def writeReplaceable = ReleaseActor.this\n",
    "    }\n",
    "    \n",
    "    def readResolve = {\n",
    "        new WriteReplaceable {\n",
    "            \n",
    "        }\n",
    "    }\n",
    "}"
   ]
  },
  {
   "cell_type": "code",
   "execution_count": null,
   "metadata": {
    "collapsed": true
   },
   "outputs": [],
   "source": [
    "trait DefaultSerializable extends Serializable {\n",
    "    def readObject = {\n",
    "        defaultReadObject()\n",
    "    }\n",
    "}\n",
    "\n",
    "object SerializableActorSystem {\n",
    "    def apply(actorSystem: ActorSystem): SerializableActorSystem\n",
    "}\n",
    "trait SerializableActorSystem extends DefaultSerializable {\n",
    "    @transient val actorSystem: ActorSystem = null\n",
    "    \n",
    "    override def readObject = {\n",
    "        super.readObject()\n",
    "        actorSystem = readFromThreadLocal()\n",
    "    }\n",
    "}\n"
   ]
  },
  {
   "cell_type": "code",
   "execution_count": null,
   "metadata": {
    "collapsed": true
   },
   "outputs": [],
   "source": [
    "class A"
   ]
  },
  {
   "cell_type": "code",
   "execution_count": null,
   "metadata": {
    "collapsed": true
   },
   "outputs": [],
   "source": [
    "classOf[A].getName"
   ]
  },
  {
   "cell_type": "code",
   "execution_count": null,
   "metadata": {
    "collapsed": true
   },
   "outputs": [],
   "source": [
    "def createNewActor: Do[ActorRef]\n",
    "\n",
    "def jumpTo(actor: ActorRef): Do[Unit]\n",
    "\n",
    "val actor1 = createNewActor.each\n",
    "\n",
    "Do.nested(monadic[Do] {\n",
    "    val actor2 = createNewActor.each\n",
    "    // on actor2\n",
    "}).each\n",
    "// on actor 2\n",
    "createNewActor.each"
   ]
  }
 ],
 "metadata": {
  "kernelspec": {
   "display_name": "Scala",
   "language": "scala",
   "name": "scala"
  },
  "language_info": {
   "codemirror_mode": "text/x-scala",
   "file_extension": ".scala",
   "mimetype": "text/x-scala",
   "name": "scala211",
   "nbconvert_exporter": "script",
   "pygments_lexer": "scala",
   "version": "2.11.11"
  }
 },
 "nbformat": 4,
 "nbformat_minor": 2
}
